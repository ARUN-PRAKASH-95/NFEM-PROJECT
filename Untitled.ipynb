{
 "cells": [
  {
   "cell_type": "code",
   "execution_count": 1,
   "metadata": {},
   "outputs": [
    {
     "name": "stdout",
     "output_type": "stream",
     "text": [
      "[0.125]\n",
      "[0.125]\n",
      "[0.125]\n",
      "[0.125]\n",
      "[0.5]\n",
      "[0.5]\n",
      "[0.5]\n",
      "[0.5]\n",
      "[0.5]\n",
      "[0.5]\n",
      "[0.5]\n",
      "[0.5]\n",
      "[0.5]\n"
     ]
    }
   ],
   "source": [
    "import numpy as np\n",
    "X1=np.linspace(0,1,5)\n",
    "X2=np.linspace(2,10,9)\n",
    "coordinate=np.concatenate((X1,X2))\n",
    "E = 1   \n",
    "    \n",
    "for i in range(len(coordinate)-1):\n",
    "    Derivative_N = np.array([-1/2,1/2])\n",
    "    Jacobian = np.matmul(Derivative_N,np.array([[coordinate[i]],\n",
    "                                                [coordinate[i+1]]]))\n",
    "    B=(1/Jacobian)*Derivative_N\n",
    "    B_T = B.transpose()\n",
    "    k =  np.matmul(B,B_T)\n",
    "    print(Jacobian)\n",
    "    "
   ]
  },
  {
   "cell_type": "code",
   "execution_count": null,
   "metadata": {},
   "outputs": [],
   "source": []
  }
 ],
 "metadata": {
  "kernelspec": {
   "display_name": "Python 3",
   "language": "python",
   "name": "python3"
  },
  "language_info": {
   "codemirror_mode": {
    "name": "ipython",
    "version": 3
   },
   "file_extension": ".py",
   "mimetype": "text/x-python",
   "name": "python",
   "nbconvert_exporter": "python",
   "pygments_lexer": "ipython3",
   "version": "3.6.7"
  }
 },
 "nbformat": 4,
 "nbformat_minor": 2
}
