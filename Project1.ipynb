{
 "cells": [
  {
   "cell_type": "code",
   "execution_count": 3,
   "metadata": {},
   "outputs": [
    {
     "name": "stdout",
     "output_type": "stream",
     "text": [
      "[[ 2.92397661e-05]\n",
      " [ 0.00000000e+00]\n",
      " [ 0.00000000e+00]\n",
      " [ 0.00000000e+00]\n",
      " [ 0.00000000e+00]\n",
      " [ 4.33680869e-19]\n",
      " [-8.67361738e-19]\n",
      " [ 0.00000000e+00]\n",
      " [ 0.00000000e+00]\n",
      " [ 0.00000000e+00]\n",
      " [ 0.00000000e+00]]\n",
      "[[1.66666667e-04]\n",
      " [1.53867266e-05]\n",
      " [5.61257430e-06]\n",
      " [2.94098477e-06]\n",
      " [1.85564952e-06]\n",
      " [1.31970837e-06]\n",
      " [1.02368376e-06]\n",
      " [8.48930572e-07]\n",
      " [7.42023420e-07]\n",
      " [6.76020666e-07]\n",
      " [6.36139184e-07]]\n",
      "[[1.66666667e-04]\n",
      " [1.53867266e-05]\n",
      " [5.61257430e-06]\n",
      " [2.94098477e-06]\n",
      " [1.85564952e-06]\n",
      " [1.31970837e-06]\n",
      " [1.02368376e-06]\n",
      " [8.48930572e-07]\n",
      " [7.42023420e-07]\n",
      " [6.76020666e-07]\n",
      " [6.36139184e-07]]\n"
     ]
    }
   ],
   "source": [
    "import numpy as np\n",
    "import matplotlib.pyplot as plt\n",
    "\n",
    "tau= 0.1\n",
    "poissons_ratio = 0.20\n",
    "E = 0.2 \n",
    "Initial_stress = 200     #MPa\n",
    "Inner_radius = 1 \n",
    "outer_radius = 20\n",
    "Epsilon = 0              #Gauss point\n",
    "delta_u = 1\n",
    "\n",
    "n = 10\n",
    "Shape_func = np.array([1/2*(1-Epsilon),1/2*(1+Epsilon)])\n",
    "mu = E/(2*(1+poissons_ratio))\n",
    "Lambda=poissons_ratio*E/((1-2*poissons_ratio)*(1+poissons_ratio))\n",
    "volumetric_strain = -0.005\n",
    "\n",
    "\n",
    "\n",
    "#displacement_1 = 1/3*tau*volumetric_strain*Inner_radius\n",
    "C = np.array([[Lambda+2*mu,Lambda,Lambda],\n",
    "              [Lambda,Lambda+2*mu,Lambda],\n",
    "              [Lambda,Lambda,Lambda+2*mu]])\n",
    "\n",
    "\n",
    "coordinate = np.linspace(Inner_radius,outer_radius,n+1)\n",
    "Global_K = np.zeros((n+1,n+1))                       # Zero matrix of order (n+1,n+1) for adding elemental stiffness\n",
    "\n",
    "\n",
    "#Global_displacement = np.zeros((n+1,1))\n",
    "d = np.linspace(0,(1/3*tau*(-volumetric_strain)*Inner_radius),n+1).reshape((n+1,1)) #Initial guess\n",
    "Global_displacement = np.flip(d,0)\n",
    "Global_F_ext = np.zeros((n+1,1))                                                    # Zero matrix of order (n+1,1) to add force matrix\n",
    "Reduced_displacement = np.delete(Global_displacement,(0),axis=0)\n",
    "\n",
    "\n",
    "\n",
    "for i in range(len(coordinate)-1):\n",
    "    def element_routine(coordinate):\n",
    "        Derivative_N = np.array([-1/2,1/2])\n",
    "        Jacobian = Derivative_N@np.array([[coordinate[i]],\n",
    "                                          [coordinate[i+1]]])\n",
    "        J_inv = np.asscalar(1/Jacobian)\n",
    "        \n",
    "        B = np.array([[-1/2*J_inv,1/2*J_inv],\n",
    "                      [1/(coordinate[i]+coordinate[i+1]),1/(coordinate[i]+coordinate[i+1])],\n",
    "                      [1/(coordinate[i]+coordinate[i+1]),1/(coordinate[i]+coordinate[i+1])]])\n",
    "    \n",
    "        B_T = np.transpose(B)\n",
    "        Element_stiffness = 2*(B_T@(material_routine(Lambda,mu))@B)*Jacobian*((coordinate[i]+coordinate[i+1])/2)**2\n",
    "        return Element_stiffness,J_inv\n",
    "    \n",
    "    \n",
    "        \n",
    "    def material_routine(Lambda,mu):\n",
    "        return C\n",
    " \n",
    "    #Assignmnet matrix\n",
    "    Ae = np.zeros((2,n+1))\n",
    "    Ae[0,i]=1                                            # [0,n-1]=1 [1,n]=1\n",
    "    Ae[1,i+1]  =1\n",
    "    AeT = np.transpose(Ae)\n",
    "    \n",
    "    Ke,J_i = element_routine(coordinate)\n",
    "    #Global stiffness matrix\n",
    "    K=AeT@Ke@Ae                                          # Stiffness matrix  of each element after transformation\n",
    "    Global_K = np.add(Global_K,K)                        # Global stiffnes matrix\n",
    "    K_red = np.delete(Global_K,(0),axis=0)\n",
    "    K_red = np.delete(K_red,(0),axis=1)\n",
    "    \n",
    "    #External force calculation\n",
    "    sigma_rr = 2*mu*J_i*((-Global_displacement[i]+Global_displacement[i+1])/2)+Lambda*tau*volumetric_strain\n",
    "  \n",
    "    Fe_ext = np.array([[-np.asscalar(sigma_rr)*coordinate[i]**2],\n",
    "                       [np.asscalar(sigma_rr)*coordinate[i+1]**2]])\n",
    "    \n",
    "    F_ext = AeT@Fe_ext                                   # Force vector of each element after transformation\n",
    "    Global_F_ext=np.add(Global_F_ext,F_ext)              # Global F matrix\n",
    "    Global_F_ext[-1]=0                                   # Global F matrix\n",
    "print(Global_F_ext)\n",
    "\n",
    "\n",
    "\n",
    "    \n",
    "#Newton Raphson method\n",
    "while np.linalg.norm(delta_u)>(0.005*np.linalg.norm(Reduced_displacement)):\n",
    "   \n",
    "    G_matrix = Global_K@Global_displacement - Global_F_ext\n",
    "    G_red = np.delete(G_matrix,(0),axis=0)\n",
    "    delta_u = np.linalg.inv(K_red)@G_red\n",
    "    Reduced_displacement = Reduced_displacement - delta_u\n",
    "    \n",
    "    Global_displacement = np.insert(Reduced_displacement,(0),(1/3*tau*(-volumetric_strain)*Inner_radius)).reshape(n+1,1)\n",
    "    print(Global_displacement)\n",
    "\n"
   ]
  },
  {
   "cell_type": "code",
   "execution_count": 4,
   "metadata": {},
   "outputs": [
    {
     "name": "stdout",
     "output_type": "stream",
     "text": [
      "[1.66666667e-04 1.98176774e-05 7.23379630e-06 3.71277939e-06\n",
      " 2.25347034e-06 1.51171580e-06 1.08394034e-06 8.15035780e-07\n",
      " 6.35065793e-07 5.08734980e-07 4.16666667e-07]\n"
     ]
    },
    {
     "data": {
      "text/plain": [
       "<matplotlib.legend.Legend at 0x7fd29002cdd8>"
      ]
     },
     "execution_count": 4,
     "metadata": {},
     "output_type": "execute_result"
    },
    {
     "data": {
      "image/png": "[encoded data removed]",
      "text/plain": [
       "<Figure size 432x288 with 1 Axes>"
      ]
     },
     "metadata": {
      "needs_background": "light"
     },
     "output_type": "display_data"
    }
   ],
   "source": [
    "u_elastic = ((Inner_radius)**3*(-volumetric_strain)*tau)/(3*(coordinate)**2)\n",
    "print(u_elastic)\n",
    "fig,ax = plt.subplots()\n",
    "ax.plot(coordinate,Global_displacement,'b',label='numerical')\n",
    "ax.plot(coordinate,u_elastic,'k',label='exact')\n",
    "ax.legend(loc='upper right', shadow=True, fontsize='x-large')"
   ]
  },
  {
   "cell_type": "code",
   "execution_count": null,
   "metadata": {},
   "outputs": [],
   "source": []
  }
 ],
 "metadata": {
  "kernelspec": {
   "display_name": "Python 3",
   "language": "python",
   "name": "python3"
  },
  "language_info": {
   "codemirror_mode": {
    "name": "ipython",
    "version": 3
   },
   "file_extension": ".py",
   "mimetype": "text/x-python",
   "name": "python",
   "nbconvert_exporter": "python",
   "pygments_lexer": "ipython3",
   "version": "3.6.7"
  }
 },
 "nbformat": 4,
 "nbformat_minor": 2
}
