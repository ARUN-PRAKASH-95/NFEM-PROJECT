{
 "cells": [
  {
   "cell_type": "code",
   "execution_count": 9,
   "metadata": {},
   "outputs": [
    {
     "name": "stdout",
     "output_type": "stream",
     "text": [
      "[ 5.          5.58990937  6.29533077  7.13888297  8.14761381  9.35386743\n",
      " 10.7963214  12.52122687 14.58389155 17.05045314 20.        ]\n"
     ]
    },
    {
     "data": {
      "text/plain": [
       "<matplotlib.collections.PathCollection at 0x7f0763189278>"
      ]
     },
     "execution_count": 9,
     "metadata": {},
     "output_type": "execute_result"
    },
    {
     "data": {
      "image/png": "[encoded data removed]",
      "text/plain": [
       "<Figure size 432x288 with 1 Axes>"
      ]
     },
     "metadata": {
      "needs_background": "light"
     },
     "output_type": "display_data"
    }
   ],
   "source": [
    "import numpy as np\n",
    "import matplotlib.pyplot as plt\n",
    "\n",
    "Inner_radius = 5\n",
    "Outer_radius = 20\n",
    "\n",
    "n=10\n",
    "\n",
    "meshrefinementfactor = 5\n",
    "q=meshrefinementfactor**(1/(n-1))\n",
    "\n",
    "l=(Outer_radius-Inner_radius)*(1-q)/(1-meshrefinementfactor*q)\n",
    "rnode=Inner_radius\n",
    "coordinates=np.array([Inner_radius])\n",
    "\n",
    "for i in range(n):\n",
    "        rnode=rnode+l\n",
    "        coordinates=np.append(coordinates,rnode)\n",
    "        l=l*q\n",
    "print(coordinates)\n",
    "\n",
    "plt.scatter(coordinates,np.zeros(n+1))"
   ]
  },
  {
   "cell_type": "code",
   "execution_count": null,
   "metadata": {},
   "outputs": [],
   "source": []
  }
 ],
 "metadata": {
  "kernelspec": {
   "display_name": "Python 3",
   "language": "python",
   "name": "python3"
  },
  "language_info": {
   "codemirror_mode": {
    "name": "ipython",
    "version": 3
   },
   "file_extension": ".py",
   "mimetype": "text/x-python",
   "name": "python",
   "nbconvert_exporter": "python",
   "pygments_lexer": "ipython3",
   "version": "3.6.7"
  }
 },
 "nbformat": 4,
 "nbformat_minor": 2
}
