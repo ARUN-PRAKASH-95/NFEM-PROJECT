{
 "cells": [
  {
   "cell_type": "code",
   "execution_count": 6,
   "metadata": {},
   "outputs": [
    {
     "name": "stdout",
     "output_type": "stream",
     "text": [
      "[[0.00083333]\n",
      " [0.00055556]\n",
      " [0.00027778]\n",
      " [0.        ]]\n",
      "[[  2.36111111  -1.80555556   0.           0.        ]\n",
      " [ -1.80555556  10.27777778  -6.25         0.        ]\n",
      " [  0.          -6.25        21.38888889 -12.91666667]\n",
      " [  0.           0.         -12.91666667  16.25      ]]\n"
     ]
    },
    {
     "data": {
      "text/plain": [
       "array([[0.00092593],\n",
       "       [0.        ],\n",
       "       [0.        ],\n",
       "       [0.        ]])"
      ]
     },
     "execution_count": 6,
     "metadata": {},
     "output_type": "execute_result"
    }
   ],
   "source": [
    "import numpy as np\n",
    "\n",
    "\n",
    "tau=0.1\n",
    "poissons_ratio = 0.20\n",
    "E = 0.2 \n",
    "Initial_stress = 200     #MPa\n",
    "Inner_radius = 5 \n",
    "outer_radius = 20\n",
    "Epsilon = 0              #Gauss point\n",
    "\n",
    "\n",
    "n = 3  #Number of elements\n",
    "Shape_func = np.array([1/2*(1-Epsilon),1/2*(1+Epsilon)])\n",
    "mu = E/(2*(1+poissons_ratio))\n",
    "Lambda=poissons_ratio*E/((1-2*poissons_ratio)*(1+poissons_ratio))\n",
    "volumetric_strain = -0.005\n",
    "\n",
    "\n",
    "\n",
    "#displacement_1 = 1/3*tau*volumetric_strain*Inner_radius\n",
    "C = np.array([[Lambda+2*mu,Lambda,Lambda],\n",
    "              [Lambda,Lambda+2*mu,Lambda],\n",
    "              [Lambda,Lambda,Lambda+2*mu]])\n",
    "\n",
    "\n",
    "coordinate = np.linspace(Inner_radius,outer_radius,n+1)\n",
    "Global_K = np.zeros((n+1,n+1))                       # Zero matrix of order (n+1,n+1) for adding elemental stiffness\n",
    "#Global_displacement = np.zeros((n+1,1))\n",
    "d = np.linspace(0,(1/3*tau*(-volumetric_strain)*Inner_radius),n+1).reshape((n+1,1)) #Initial guess\n",
    "Global_displacement = np.flip(d,0)\n",
    "Global_F_ext = np.zeros((n+1,1))                     # Zero matrix of order (n+1,1) to add force matrix\n",
    "\n",
    "\n",
    "\n",
    "\n",
    "for i in range(len(coordinate)-1):\n",
    "    def element_routine(coordinate):\n",
    "        Derivative_N = np.array([-1/2,1/2])\n",
    "        Jacobian = Derivative_N@np.array([[coordinate[i]],\n",
    "                                          [coordinate[i+1]]])\n",
    "        J_inv = np.asscalar(1/Jacobian)\n",
    "        \n",
    "        B = np.array([[-1/2*J_inv,1/2*J_inv],\n",
    "                      [1/(coordinate[i]+coordinate[i+1]),1/(coordinate[i]+coordinate[i+1])],\n",
    "                      [1/(coordinate[i]+coordinate[i+1]),1/(coordinate[i]+coordinate[i+1])]])\n",
    "       \n",
    "        B_T = np.transpose(B)\n",
    "        Element_stiffness = 2*(B_T@ material_routine(Lambda,mu)@B)*Jacobian*((coordinate[i]+coordinate[i+1])/2)**2\n",
    "        return Element_stiffness,J_inv\n",
    "    Ke,J_i = element_routine(coordinate)\n",
    "    \n",
    "        \n",
    "    def material_routine(Lambda,mu):\n",
    "        return C\n",
    "    \n",
    "    #Assignmnet matrix\n",
    "    Ae = np.zeros((2,n+1))\n",
    "    Ae[0,i]=1                                            # [0,n-1]=1 [1,n]=1\n",
    "    Ae[1,i+1]  =1\n",
    "    AeT = np.transpose(Ae)\n",
    "    \n",
    "    #Global stiffness matrix\n",
    "    K=AeT@Ke@Ae                                          # Stiffness matrix  of each element after transformation\n",
    "    Global_K = np.add(Global_K,K)                        # Global stiffnes matrix\n",
    "    \n",
    "    \n",
    "    #External force calculation\n",
    "    sigma_rr = 2*mu*J_i*((-Global_displacement[i]+Global_displacement[i+1])/2)+Lambda*tau*volumetric_strain\n",
    "  \n",
    "    Fe_ext = np.array([[-np.asscalar(sigma_rr)*coordinate[i]**2],\n",
    "                       [np.asscalar(sigma_rr)*coordinate[i+1]**2]])\n",
    "    \n",
    "    F_ext = np.dot(AeT,Fe_ext)                           # Force vector of each element after transformation\n",
    "    Global_F_ext=np.add(Global_F_ext,F_ext)              # Global F matrix\n",
    "    Global_F_ext[-1]=0                                   # Global F matrix\n",
    "    \n",
    "print(Global_K)\n",
    "   \n",
    "Global_F_ext"
   ]
  },
  {
   "cell_type": "code",
   "execution_count": null,
   "metadata": {},
   "outputs": [],
   "source": []
  },
  {
   "cell_type": "code",
   "execution_count": null,
   "metadata": {},
   "outputs": [],
   "source": []
  }
 ],
 "metadata": {
  "kernelspec": {
   "display_name": "Python 3",
   "language": "python",
   "name": "python3"
  },
  "language_info": {
   "codemirror_mode": {
    "name": "ipython",
    "version": 3
   },
   "file_extension": ".py",
   "mimetype": "text/x-python",
   "name": "python",
   "nbconvert_exporter": "python",
   "pygments_lexer": "ipython3",
   "version": "3.6.7"
  }
 },
 "nbformat": 4,
 "nbformat_minor": 2
}
