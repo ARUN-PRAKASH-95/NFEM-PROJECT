{
 "cells": [
  {
   "cell_type": "code",
   "execution_count": 12,
   "metadata": {},
   "outputs": [
    {
     "name": "stdout",
     "output_type": "stream",
     "text": [
      "[[5.63047141e-04]\n",
      " [3.38934345e-04]\n",
      " [2.30064634e-04]\n",
      " [1.69735981e-04]\n",
      " [1.33363226e-04]\n",
      " [1.10165393e-04]\n",
      " [9.48091561e-05]\n",
      " [8.44104588e-05]\n",
      " [7.72988963e-05]\n",
      " [7.24526632e-05]\n",
      " [6.92182216e-05]]\n"
     ]
    }
   ],
   "source": [
    "import numpy as np\n",
    "import matplotlib.pyplot as plt\n",
    "\n",
    "tau= 1\n",
    "poissons_ratio = 0.20\n",
    "E = 0.2 \n",
    "Initial_stress = 200     #MPa\n",
    "Inner_radius = 5 \n",
    "outer_radius = 20\n",
    "Epsilon = 0              #Gauss point\n",
    "delta_u = 1\n",
    "\n",
    "n = 10                   \n",
    "Shape_func = np.array([1/2*(1-Epsilon),1/2*(1+Epsilon)])\n",
    "mu = E/(2*(1+poissons_ratio))\n",
    "Lambda=poissons_ratio*E/((1-2*poissons_ratio)*(1+poissons_ratio))\n",
    "volumetric_strain = -0.005\n",
    "\n",
    "\n",
    "\n",
    "#displacement_1 = 1/3*tau*volumetric_strain*Inner_radius\n",
    "C = np.array([[Lambda+2*mu,Lambda,Lambda],\n",
    "              [Lambda,Lambda+2*mu,Lambda],\n",
    "              [Lambda,Lambda,Lambda+2*mu]])\n",
    "\n",
    "\n",
    "coordinate = np.linspace(Inner_radius,outer_radius,n+1)\n",
    "Global_K = np.zeros((n+1,n+1))                       # Zero matrix of order (n+1,n+1) for adding elemental stiffness\n",
    "\n",
    "\n",
    "#Global_displacement = np.zeros((n+1,1))\n",
    "d = np.linspace(0,(1/3*tau*(-volumetric_strain)*Inner_radius),n+1).reshape((n+1,1)) #Initial guess\n",
    "Global_displacement = np.flip(d,0)\n",
    "Global_F_ext = np.zeros((n+1,1))                     # Zero matrix of order (n+1,1) to add force matrix\n",
    "\n",
    "\n",
    "\n",
    "for i in range(len(coordinate)-1):\n",
    "    def element_routine(coordinate):\n",
    "        Derivative_N = np.array([-1/2,1/2])\n",
    "        Jacobian = Derivative_N@np.array([[coordinate[i]],\n",
    "                                          [coordinate[i+1]]])\n",
    "        J_inv = np.asscalar(1/Jacobian)\n",
    "        \n",
    "        B = np.array([[-1/2*J_inv,1/2*J_inv],\n",
    "                      [1/(coordinate[i]+coordinate[i+1]),1/(coordinate[i]+coordinate[i+1])],\n",
    "                      [1/(coordinate[i]+coordinate[i+1]),1/(coordinate[i]+coordinate[i+1])]])\n",
    "    \n",
    "        B_T = np.transpose(B)\n",
    "        Element_stiffness = 2*(B_T@(material_routine(Lambda,mu))@B)*Jacobian*((coordinate[i]+coordinate[i+1])/2)**2\n",
    "        return Element_stiffness,J_inv\n",
    "    \n",
    "    \n",
    "        \n",
    "    def material_routine(Lambda,mu):\n",
    "        return C\n",
    " \n",
    "    #Assignmnet matrix\n",
    "    Ae = np.zeros((2,n+1))\n",
    "    Ae[0,i]=1                                            # [0,n-1]=1 [1,n]=1\n",
    "    Ae[1,i+1]  =1\n",
    "    AeT = np.transpose(Ae)\n",
    "    \n",
    "    Ke,J_i = element_routine(coordinate)\n",
    "    #Global stiffness matrix\n",
    "    K=AeT@Ke@Ae                                          # Stiffness matrix  of each element after transformation\n",
    "    Global_K = np.add(Global_K,K)                        # Global stiffnes matrix\n",
    "    \n",
    "    \n",
    "    #External force calculation\n",
    "    sigma_rr = 2*mu*J_i*((-Global_displacement[i]+Global_displacement[i+1])/2)+Lambda*tau*volumetric_strain\n",
    "  \n",
    "    Fe_ext = np.array([[-np.asscalar(sigma_rr)*coordinate[i]**2],\n",
    "                       [np.asscalar(sigma_rr)*coordinate[i+1]**2]])\n",
    "    \n",
    "    F_ext = np.dot(AeT,Fe_ext)                           # Force vector of each element after transformation\n",
    "    Global_F_ext=np.add(Global_F_ext,F_ext)              # Global F matrix\n",
    "    Global_F_ext[-1]=0                                   # Global F matrix\n",
    "    \n",
    " \n",
    "\n",
    "    \n",
    "#Newton Raphson method\n",
    "while np.linalg.norm(delta_u)>(0.005*np.linalg.norm(Global_displacement)):\n",
    "    \n",
    "    G_matrix = Global_K@Global_displacement - Global_F_ext\n",
    "    delta_u = np.linalg.inv(Global_K)@G_matrix\n",
    "    Global_displacement = Global_displacement - delta_u\n",
    "print(Global_displacement)                     \n",
    "\n"
   ]
  },
  {
   "cell_type": "code",
   "execution_count": 13,
   "metadata": {},
   "outputs": [
    {
     "name": "stdout",
     "output_type": "stream",
     "text": [
      "[8.33333333e-04 4.93096647e-04 3.25520833e-04 2.30840259e-04\n",
      " 1.72176309e-04 1.33333333e-04 1.06292517e-04 8.67152272e-05\n",
      " 7.20876586e-05 6.08716825e-05 5.20833333e-05]\n"
     ]
    },
    {
     "data": {
      "text/plain": [
       "<matplotlib.legend.Legend at 0x7efd8773f6a0>"
      ]
     },
     "execution_count": 13,
     "metadata": {},
     "output_type": "execute_result"
    },
    {
     "data": {
      "image/png": "[encoded data removed]",
      "text/plain": [
       "<Figure size 432x288 with 1 Axes>"
      ]
     },
     "metadata": {
      "needs_background": "light"
     },
     "output_type": "display_data"
    }
   ],
   "source": [
    "u_elastic = ((Inner_radius)**3*(-volumetric_strain)*tau)/(3*(coordinate)**2)\n",
    "print(u_elastic)\n",
    "fig,ax = plt.subplots()\n",
    "ax.plot(coordinate,Global_displacement,'b',label='numerical')\n",
    "ax.plot(coordinate,u_elastic,'k',label='exact')\n",
    "ax.legend(loc='upper right', shadow=True, fontsize='x-large')"
   ]
  },
  {
   "cell_type": "code",
   "execution_count": null,
   "metadata": {},
   "outputs": [],
   "source": []
  }
 ],
 "metadata": {
  "kernelspec": {
   "display_name": "Python 3",
   "language": "python",
   "name": "python3"
  },
  "language_info": {
   "codemirror_mode": {
    "name": "ipython",
    "version": 3
   },
   "file_extension": ".py",
   "mimetype": "text/x-python",
   "name": "python",
   "nbconvert_exporter": "python",
   "pygments_lexer": "ipython3",
   "version": "3.6.7"
  }
 },
 "nbformat": 4,
 "nbformat_minor": 2
}
