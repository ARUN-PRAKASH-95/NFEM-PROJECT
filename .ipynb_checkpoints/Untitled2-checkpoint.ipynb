{
 "cells": [
  {
   "cell_type": "code",
   "execution_count": 22,
   "metadata": {},
   "outputs": [
    {
     "ename": "TypeError",
     "evalue": "list indices must be integers or slices, not float",
     "output_type": "error",
     "traceback": [
      "\u001b[0;31m---------------------------------------------------------------------------\u001b[0m",
      "\u001b[0;31mTypeError\u001b[0m                                 Traceback (most recent call last)",
      "\u001b[0;32m<ipython-input-22-b85f9258920f>\u001b[0m in \u001b[0;36m<module>\u001b[0;34m\u001b[0m\n\u001b[1;32m      6\u001b[0m \u001b[0;34m\u001b[0m\u001b[0m\n\u001b[1;32m      7\u001b[0m f=np.array([[1.00327403e-04]\n\u001b[0;32m----> 8\u001b[0;31m  \u001b[0;34m[\u001b[0m\u001b[0;36m6.81010573e-05\u001b[0m\u001b[0;34m]\u001b[0m\u001b[0;34m\u001b[0m\u001b[0;34m\u001b[0m\u001b[0m\n\u001b[0m\u001b[1;32m      9\u001b[0m  \u001b[0;34m[\u001b[0m\u001b[0;36m5.02432711e-05\u001b[0m\u001b[0;34m]\u001b[0m\u001b[0;34m\u001b[0m\u001b[0;34m\u001b[0m\u001b[0m\n\u001b[1;32m     10\u001b[0m  \u001b[0;34m[\u001b[0m\u001b[0;36m3.94766312e-05\u001b[0m\u001b[0;34m]\u001b[0m\u001b[0;34m\u001b[0m\u001b[0;34m\u001b[0m\u001b[0m\n",
      "\u001b[0;31mTypeError\u001b[0m: list indices must be integers or slices, not float"
     ]
    }
   ],
   "source": [
    "import numpy as np\n",
    "a=np.eye(3)\n",
    "c=np.outer(a,a)\n",
    "I = 1/2*(c+c)-1/3*(c)\n",
    "e= 3*c\n",
    "\n",
    "f=np.array([[1.00327403e-04]\n",
    "             [6.81010573e-05]\n",
    "             [5.02432711e-05]\n",
    "             [3.94766312e-05]\n",
    "             [3.26098784e-05]\n",
    "             [2.80643038e-05]\n",
    "             [2.49862024e-05]\n",
    "             [2.28811203e-05]\n",
    "             [2.14465948e-05]\n",
    "             [2.04891730e-05]])\n",
    "f"
   ]
  },
  {
   "cell_type": "code",
   "execution_count": null,
   "metadata": {},
   "outputs": [],
   "source": []
  }
 ],
 "metadata": {
  "kernelspec": {
   "display_name": "Python 3",
   "language": "python",
   "name": "python3"
  },
  "language_info": {
   "codemirror_mode": {
    "name": "ipython",
    "version": 3
   },
   "file_extension": ".py",
   "mimetype": "text/x-python",
   "name": "python",
   "nbconvert_exporter": "python",
   "pygments_lexer": "ipython3",
   "version": "3.6.7"
  }
 },
 "nbformat": 4,
 "nbformat_minor": 2
}
