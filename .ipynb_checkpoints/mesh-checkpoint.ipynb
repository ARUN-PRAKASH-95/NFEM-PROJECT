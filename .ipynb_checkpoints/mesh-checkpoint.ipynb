{
 "cells": [
  {
   "cell_type": "code",
   "execution_count": 8,
   "metadata": {},
   "outputs": [
    {
     "name": "stdout",
     "output_type": "stream",
     "text": [
      "[ 5.          5.06022789  5.1214429   5.18366122  5.24689928  5.3111738\n",
      "  5.37650177  5.44290046  5.5103874   5.57898044  5.64869771  5.71955764\n",
      "  5.79157894  5.86478066  5.93918214  6.01480305  6.09166337  6.16978342\n",
      "  6.24918384  6.32988561  6.41191008  6.49527891  6.58001414  6.66613816\n",
      "  6.75367374  6.84264401  6.93307249  7.02498308  7.11840006  7.21334813\n",
      "  7.30985237  7.40793831  7.50763186  7.60895936  7.7119476   7.8166238\n",
      "  7.92301563  8.03115119  8.14105908  8.25276833  8.36630849  8.48170954\n",
      "  8.59900199  8.71821685  8.83938561  8.96254031  9.08771349  9.21493823\n",
      "  9.34424816  9.47567746  9.60926086  9.74503367  9.88303177 10.02329163\n",
      " 10.16585033 10.31074553 10.45801554 10.60769928 10.7598363  10.91446683\n",
      " 11.07163171 11.2313725  11.39373142 11.55875136 11.72647595 11.89694951\n",
      " 12.07021711 12.24632453 12.42531831 12.60724577 12.79215499 12.98009483\n",
      " 13.17111497 13.3652659  13.56259892 13.7631662  13.96702073 14.1742164\n",
      " 14.38480797 14.5988511  14.81640235 15.03751923 15.26226017 15.49068457\n",
      " 15.72285281 15.95882623 16.19866722 16.44243916 16.69020648 16.94203465\n",
      " 17.19799024 17.45814089 17.72255537 17.99130354 18.26445645 18.54208629\n",
      " 18.82426642 19.11107144 19.40257713 19.69886055 20.        ]\n"
     ]
    },
    {
     "data": {
      "text/plain": [
       "<matplotlib.collections.PathCollection at 0x7f0762f16358>"
      ]
     },
     "execution_count": 8,
     "metadata": {},
     "output_type": "execute_result"
    },
    {
     "data": {
      "image/png": "[encoded data removed]",
      "text/plain": [
       "<Figure size 432x288 with 1 Axes>"
      ]
     },
     "metadata": {
      "needs_background": "light"
     },
     "output_type": "display_data"
    }
   ],
   "source": [
    "import numpy as np\n",
    "import matplotlib.pyplot as plt\n",
    "\n",
    "Inner_radius = 5\n",
    "Outer_radius = 20\n",
    "\n",
    "n=10\n",
    "\n",
    "meshrefinementfactor = 5\n",
    "q=meshrefinementfactor**(1/(n-1))\n",
    "\n",
    "l=(Outer_radius-Inner_radius)*(1-q)/(1-meshrefinementfactor*q)\n",
    "rnode=Inner_radius\n",
    "coordinates=np.array([Inner_radius])\n",
    "\n",
    "for i in range(n):\n",
    "        rnode=rnode+l\n",
    "        coordinates=np.append(coordinates,rnode)\n",
    "        l=l*q\n",
    "print(coordinates)\n",
    "\n",
    "plt.scatter(coordinates,np.zeros(n+1))"
   ]
  },
  {
   "cell_type": "code",
   "execution_count": null,
   "metadata": {},
   "outputs": [],
   "source": []
  }
 ],
 "metadata": {
  "kernelspec": {
   "display_name": "Python 3",
   "language": "python",
   "name": "python3"
  },
  "language_info": {
   "codemirror_mode": {
    "name": "ipython",
    "version": 3
   },
   "file_extension": ".py",
   "mimetype": "text/x-python",
   "name": "python",
   "nbconvert_exporter": "python",
   "pygments_lexer": "ipython3",
   "version": "3.6.7"
  }
 },
 "nbformat": 4,
 "nbformat_minor": 2
}
